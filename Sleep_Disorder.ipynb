{
  "nbformat": 4,
  "nbformat_minor": 0,
  "metadata": {
    "colab": {
      "provenance": [],
      "authorship_tag": "ABX9TyMk8ThK/Ad35/HPLtEe+Km8",
      "include_colab_link": true
    },
    "kernelspec": {
      "name": "python3",
      "display_name": "Python 3"
    },
    "language_info": {
      "name": "python"
    }
  },
  "cells": [
    {
      "cell_type": "markdown",
      "metadata": {
        "id": "view-in-github",
        "colab_type": "text"
      },
      "source": [
        "<a href=\"https://colab.research.google.com/github/AshaArepalli7296/Sleep_Disorder/blob/main/Sleep_Disorder.ipynb\" target=\"_parent\"><img src=\"https://colab.research.google.com/assets/colab-badge.svg\" alt=\"Open In Colab\"/></a>"
      ]
    },
    {
      "cell_type": "code",
      "execution_count": null,
      "metadata": {
        "id": "PTRH-HHkOOPE"
      },
      "outputs": [],
      "source": [
        "import pandas as pd\n",
        "import numpy as nm\n",
        "import matplotlib.pyplot as mtp"
      ]
    },
    {
      "cell_type": "code",
      "source": [
        "data_set= pd.read_csv('expanded_sleep_health_dataset.csv')\n",
        "print(data_set)"
      ],
      "metadata": {
        "colab": {
          "base_uri": "https://localhost:8080/"
        },
        "id": "FdpNM1jbOr7M",
        "outputId": "98624ebc-de65-4853-9813-faabacf2ab29"
      },
      "execution_count": null,
      "outputs": [
        {
          "output_type": "stream",
          "name": "stdout",
          "text": [
            "      Person ID  Gender  Age         Occupation  Sleep Duration  \\\n",
            "0             1    Male   41              Nurse             7.0   \n",
            "1             2    Male   42  Software Engineer             6.7   \n",
            "2             3  Female   45             Doctor             8.7   \n",
            "3             4    Male   24             Writer             8.0   \n",
            "4             5  Female   18        Salesperson             8.8   \n",
            "...         ...     ...  ...                ...             ...   \n",
            "1495       1496    Male   63           Engineer             9.1   \n",
            "1496       1497    Male   70             Lawyer             8.6   \n",
            "1497       1498    Male   23           Engineer             7.3   \n",
            "1498       1499    Male   76           Engineer             8.1   \n",
            "1499       1500  Female   22           Engineer             5.8   \n",
            "\n",
            "      Quality of Sleep  Physical Activity Level  Stress Level BMI Category  \\\n",
            "0                    5                       91            10       Normal   \n",
            "1                    7                      123             5   Overweight   \n",
            "2                    4                       49             7       Normal   \n",
            "3                    6                        4             5       Normal   \n",
            "4                    6                       66             4   Overweight   \n",
            "...                ...                      ...           ...          ...   \n",
            "1495                 7                       34             4        Obese   \n",
            "1496                 1                       26             9       Normal   \n",
            "1497                 5                       62             9   Overweight   \n",
            "1498                 7                       36             5   Overweight   \n",
            "1499                 7                       50             5       Normal   \n",
            "\n",
            "             Blood Pressure  Heart Rate  Daily Steps Sleep Disorder  \n",
            "0                 111/71.15          56         9476            NaN  \n",
            "1     129/85.85000000000001          67        10661            NaN  \n",
            "2     119/79.35000000000001          60         5033            NaN  \n",
            "3                   98/62.7          97         1610            NaN  \n",
            "4                  110/66.5          71         6574            NaN  \n",
            "...                     ...         ...          ...            ...  \n",
            "1495              131/90.15          70         4830            NaN  \n",
            "1496              117/74.05         104         3576     Narcolepsy  \n",
            "1497               110/67.5          67         6785    Sleep Apnea  \n",
            "1498               126/86.9          54         3751       Insomnia  \n",
            "1499  114/78.10000000000001          63         4556     Narcolepsy  \n",
            "\n",
            "[1500 rows x 13 columns]\n"
          ]
        }
      ]
    },
    {
      "cell_type": "code",
      "source": [
        "data_set = pd.read_csv('expanded_sleep_health_dataset.csv', keep_default_na=False)\n",
        "print(data_set)\n"
      ],
      "metadata": {
        "colab": {
          "base_uri": "https://localhost:8080/"
        },
        "id": "LYITExCxOr1A",
        "outputId": "b870b164-38a9-4e30-e185-06cde60d9082"
      },
      "execution_count": null,
      "outputs": [
        {
          "output_type": "stream",
          "name": "stdout",
          "text": [
            "      Person ID  Gender  Age         Occupation  Sleep Duration  \\\n",
            "0             1    Male   41              Nurse             7.0   \n",
            "1             2    Male   42  Software Engineer             6.7   \n",
            "2             3  Female   45             Doctor             8.7   \n",
            "3             4    Male   24             Writer             8.0   \n",
            "4             5  Female   18        Salesperson             8.8   \n",
            "...         ...     ...  ...                ...             ...   \n",
            "1495       1496    Male   63           Engineer             9.1   \n",
            "1496       1497    Male   70             Lawyer             8.6   \n",
            "1497       1498    Male   23           Engineer             7.3   \n",
            "1498       1499    Male   76           Engineer             8.1   \n",
            "1499       1500  Female   22           Engineer             5.8   \n",
            "\n",
            "      Quality of Sleep  Physical Activity Level  Stress Level BMI Category  \\\n",
            "0                    5                       91            10       Normal   \n",
            "1                    7                      123             5   Overweight   \n",
            "2                    4                       49             7       Normal   \n",
            "3                    6                        4             5       Normal   \n",
            "4                    6                       66             4   Overweight   \n",
            "...                ...                      ...           ...          ...   \n",
            "1495                 7                       34             4        Obese   \n",
            "1496                 1                       26             9       Normal   \n",
            "1497                 5                       62             9   Overweight   \n",
            "1498                 7                       36             5   Overweight   \n",
            "1499                 7                       50             5       Normal   \n",
            "\n",
            "             Blood Pressure  Heart Rate  Daily Steps Sleep Disorder  \n",
            "0                 111/71.15          56         9476           None  \n",
            "1     129/85.85000000000001          67        10661           None  \n",
            "2     119/79.35000000000001          60         5033           None  \n",
            "3                   98/62.7          97         1610           None  \n",
            "4                  110/66.5          71         6574           None  \n",
            "...                     ...         ...          ...            ...  \n",
            "1495              131/90.15          70         4830           None  \n",
            "1496              117/74.05         104         3576     Narcolepsy  \n",
            "1497               110/67.5          67         6785    Sleep Apnea  \n",
            "1498               126/86.9          54         3751       Insomnia  \n",
            "1499  114/78.10000000000001          63         4556     Narcolepsy  \n",
            "\n",
            "[1500 rows x 13 columns]\n"
          ]
        }
      ]
    },
    {
      "cell_type": "code",
      "source": [
        "for col in data_set.columns:\n",
        "    print(f\"{col} → {data_set[col].unique()}\")\n"
      ],
      "metadata": {
        "colab": {
          "base_uri": "https://localhost:8080/"
        },
        "id": "PPcVU_wlOrum",
        "outputId": "69014365-812f-44b3-d3b0-abd19e52d934"
      },
      "execution_count": null,
      "outputs": [
        {
          "output_type": "stream",
          "name": "stdout",
          "text": [
            "Person ID → [   1    2    3 ... 1498 1499 1500]\n",
            "Gender → ['Male' 'Female']\n",
            "Age → [41 42 45 24 18 78 21 50 68 71 46 77 23 30 69 56 51 75 61 37 31 72 19 60\n",
            " 20 39 35 64 58 33 73 79 36 67 43 49 38 40 65 44 57 63 53 54 26 29 62 66\n",
            " 52 34 55 59 25 70 80 74 47 28 48 76 27 32 22]\n",
            "Occupation → ['Nurse' 'Software Engineer' 'Doctor' 'Writer' 'Salesperson' 'Manager'\n",
            " 'Lawyer' 'Artist' 'Accountant' 'Sales Representative' 'Engineer'\n",
            " 'Scientist' 'Chef' 'Student' 'Teacher']\n",
            "Sleep Duration → [ 7.   6.7  8.7  8.   8.8  7.7  6.8  7.2  7.5  8.5  7.3  8.2  7.8  7.4\n",
            "  7.6  9.5  7.1  5.8  8.6 10.   6.4  8.3  9.   8.4  9.3  9.4  6.3  6.6\n",
            "  6.5  9.1  8.1  6.9  5.5  7.9  9.2  5.7  9.9  6.   6.2  9.7  8.9  6.1\n",
            "  5.6  9.6  5.2  5.4  5.3  9.8  5.9  5.1]\n",
            "Quality of Sleep → [ 5  7  4  6  3  9  1  8  2 10]\n",
            "Physical Activity Level → [ 91 123  49   4  66  34  35  30  37  26  23  93   7  59  65  68 142 127\n",
            "  51 106  50  21  52  99   0 128  13  63 157  45  31  20  36  43 118  86\n",
            " 100  22  16  14  79  53  58  42   2  67  12  28  77  54 107  69  57  29\n",
            "  98   6 149   9  44  56  46  95  75  73 108 122  74  71   5  70  78 116\n",
            " 136 134  61 180  89  96  24  72  48  25 120 104 140  39  17  33  38  40\n",
            "  94 119  81  10  47  32  27 152  76 144 105 101 132  92 121  62 113  85\n",
            " 130  82 150  15 109  80  19 115  60 112  64 117  11  41  87  84 125 110\n",
            "  97 131  18   3  83   8 103  55 155 129  88 114 160  90 126 153 141 138\n",
            " 137 162 111 147 102 145 124 148 173 161 139 133 146 171 135   1 169 163\n",
            " 143 176 154]\n",
            "Stress Level → [10  5  7  4  6  9  3  8  2  1]\n",
            "BMI Category → ['Normal' 'Overweight' 'Underweight' 'Obese']\n",
            "Blood Pressure → ['111/71.15' '129/85.85000000000001' '119/79.35000000000001' '98/62.7'\n",
            " '110/66.5' '115/72.75' '107/72.55' '115/70.75' '106/63.900000000000006'\n",
            " '136/85.4' '131/89.15' '113/74.45' '122/81.3' '130/86.5' '98/66.7'\n",
            " '122/74.3' '119/74.35000000000001' '115/71.75' '124/76.60000000000001'\n",
            " '128/81.2' '117/80.05' '127/82.55' '126/82.9' '126/80.9' '128/80.2'\n",
            " '118/77.7' '109/72.85000000000001' '117/78.05' '145/96.25'\n",
            " '114/78.10000000000001' '109/75.85000000000001' '120/83.0' '125/83.25'\n",
            " '134/85.10000000000001' '101/66.65' '115/73.75' '111/74.15' '100/69.0'\n",
            " '107/65.55' '102/64.3' '108/72.2' '102/66.3' '110/72.5' '122/84.3'\n",
            " '137/89.05' '113/77.45' '126/86.9' '143/88.95' '127/77.55' '126/76.9'\n",
            " '140/91.0' '116/71.4' '122/76.3' '103/69.95' '117/75.05' '121/77.65'\n",
            " '121/81.65' '111/77.15' '129/84.85000000000001' '110/73.5' '115/75.75'\n",
            " '132/85.8' '125/77.25' '114/71.10000000000001' '127/83.55' '117/72.05'\n",
            " '114/75.10000000000001' '138/87.7' '122/79.3' '136/84.4' '108/73.2'\n",
            " '125/81.25' '118/81.7' '141/95.65' '138/86.7' '106/70.9' '121/73.65'\n",
            " '104/64.60000000000001' '121/82.65' '124/77.60000000000001' '125/85.25'\n",
            " '119/78.35000000000001' '110/69.5' '115/69.75' '122/83.3'\n",
            " '124/79.60000000000001' '120/79.0' '126/78.9' '118/80.7' '113/69.45'\n",
            " '137/84.05' '128/88.2' '97/63.050000000000004' '125/78.25' '128/87.2'\n",
            " '130/79.5' '113/71.45' '109/71.85000000000001' '117/77.05' '118/71.7'\n",
            " '136/83.4' '116/72.4' '122/80.3' '102/67.3' '138/94.7' '123/82.95'\n",
            " '131/86.15' '107/71.55' '101/69.65' '110/67.5' '123/74.95' '135/91.75'\n",
            " '133/90.45' '105/69.25' '101/61.650000000000006' '121/75.65' '110/76.5'\n",
            " '136/86.4' '114/77.10000000000001' '105/73.25' '117/81.05' '112/74.8'\n",
            " '123/81.95' '119/81.35000000000001' '126/79.9' '123/80.95' '120/78.0'\n",
            " '127/86.55' '123/79.95' '116/70.4' '133/89.45' '140/86.0'\n",
            " '104/65.60000000000001' '115/78.75' '132/86.8' '114/73.10000000000001'\n",
            " '128/82.2' '133/82.45' '100/64.0' '99/62.35000000000001' '125/80.25'\n",
            " '112/76.8' '104/70.60000000000001' '120/74.0' '112/73.8' '123/76.95'\n",
            " '121/74.65' '134/91.10000000000001' '111/70.15' '122/82.3' '132/88.8'\n",
            " '128/83.2' '101/62.650000000000006' '118/72.7' '103/64.95'\n",
            " '119/82.35000000000001' '139/89.35000000000001' '122/77.3' '136/87.4'\n",
            " '135/85.75' '118/75.7' '99/61.35000000000001' '107/70.55' '118/76.7'\n",
            " '134/86.10000000000001' '134/89.10000000000001' '140/90.0' '137/88.05'\n",
            " '111/67.15' '128/86.2' '116/79.4' '99/60' '107/68.55'\n",
            " '129/86.85000000000001' '105/66.25' '130/85.5' '128/84.2' '123/78.95'\n",
            " '132/82.8' '107/67.55' '127/80.55' '104/69.60000000000001' '142/93.3'\n",
            " '112/75.8' '120/73.0' '116/76.4' '133/83.45' '114/79.10000000000001'\n",
            " '116/77.4' '105/70.25' '108/69.2' '115/79.75' '130/83.5' '113/73.45'\n",
            " '112/72.8' '120/82.0' '119/73.35000000000001' '113/72.45' '126/85.9'\n",
            " '106/73.9' '131/90.15' '103/65.95' '108/70.2' '126/77.9'\n",
            " '104/72.60000000000001' '111/75.15' '116/73.4' '116/80.4'\n",
            " '114/74.10000000000001' '113/75.45' '132/83.8' '102/69.3'\n",
            " '109/73.85000000000001' '107/74.55' '135/82.75' '114/76.10000000000001'\n",
            " '127/85.55' '109/68.85000000000001' '120/76.0' '129/80.85000000000001'\n",
            " '124/75.60000000000001' '102/71.3' '109/67.85000000000001' '138/85.7'\n",
            " '101/64.65' '103/61.95' '130/84.5' '123/84.95' '143/87.95' '123/75.95'\n",
            " '106/64.9' '137/91.05' '120/77.0' '107/66.55' '147/94.55'\n",
            " '109/69.85000000000001' '118/79.7' '110/70.5' '132/89.8' '132/87.8'\n",
            " '127/84.55' '111/76.15' '118/78.7' '112/68.8' '106/65.9'\n",
            " '144/93.60000000000001' '129/87.85000000000001' '101/60.650000000000006'\n",
            " '137/92.05' '123/83.95' '140/92.0' '131/82.15' '135/86.75'\n",
            " '124/81.60000000000001' '140/89.0' '119/80.35000000000001'\n",
            " '144/92.60000000000001' '112/70.8' '104/71.60000000000001' '145/97.25'\n",
            " '146/93.9' '135/87.75' '138/93.7' '130/88.5' '141/91.65' '101/68.65'\n",
            " '120/75.0' '132/84.8' '133/84.45' '128/79.2' '115/74.75'\n",
            " '101/63.650000000000006' '112/67.8' '105/65.25' '124/82.60000000000001'\n",
            " '119/72.35000000000001' '118/74.7' '131/84.15' '106/67.9' '106/72.9'\n",
            " '119/76.35000000000001' '139/94.35000000000001' '117/79.05'\n",
            " '109/74.85000000000001' '133/81.45' '136/93.4' '105/72.25' '120/81.0'\n",
            " '123/77.95' '131/81.15' '141/90.65' '137/90.05' '132/90.8' '111/68.15'\n",
            " '105/64.25' '113/78.45' '97/62.050000000000004' '134/92.10000000000001'\n",
            " '117/73.05' '124/85.60000000000001' '130/89.5' '121/78.65'\n",
            " '134/87.10000000000001' '105/71.25' '138/91.7' '105/63.25' '122/78.3'\n",
            " '137/85.05' '130/80.5' '146/96.9' '133/87.45' '131/88.15' '115/77.75'\n",
            " '103/63.95' '121/79.65' '142/87.3' '121/80.65' '108/68.2'\n",
            " '124/80.60000000000001' '101/65.65' '100/62.0' '129/81.85000000000001'\n",
            " '136/91.4' '129/78.85000000000001' '113/76.45' '120/80.0' '106/66.9'\n",
            " '119/77.35000000000001' '137/94.05' '130/81.5' '108/65.2'\n",
            " '134/83.10000000000001' '100/66.0' '102/70.3' '104/66.60000000000001'\n",
            " '129/79.85000000000001' '102/63.3' '139/90.35000000000001'\n",
            " '109/65.85000000000001' '138/89.7' '125/86.25' '141/87.65' '136/90.4'\n",
            " '106/71.9' '128/85.2' '121/83.65' '107/64.55' '105/67.25' '107/69.55'\n",
            " '134/84.10000000000001' '112/71.8' '133/86.45' '140/95.0'\n",
            " '114/69.10000000000001' '126/83.9' '117/74.05' '125/76.25'\n",
            " '109/66.85000000000001' '108/75.2' '110/74.5' '116/74.4' '131/80.15'\n",
            " '114/72.10000000000001' '131/87.15' '127/79.55' '101/67.65'\n",
            " '124/78.60000000000001' '124/84.60000000000001' '125/82.25' '112/77.8'\n",
            " '141/88.65' '137/86.05' '141/93.65' '100/65.0' '132/80.8' '125/84.25'\n",
            " '108/71.2' '139/85.35000000000001' '111/72.15' '119/75.35000000000001'\n",
            " '112/69.8' '103/68.95' '139/95.35000000000001' '110/75.5' '113/70.45'\n",
            " '108/66.2' '126/81.9' '135/89.75' '109/70.85000000000001'\n",
            " '124/83.60000000000001' '118/73.7' '106/68.9' '127/78.55' '125/79.25'\n",
            " '103/66.95' '139/92.35000000000001' '117/76.05' '99/63.35000000000001'\n",
            " '99/64.35000000000001' '111/73.15' '121/76.65' '145/94.25' '100/68.0'\n",
            " '126/84.9' '98/67.7' '105/68.25' '131/85.15' '135/84.75' '142/92.3'\n",
            " '148/98.2' '122/75.3' '135/92.75' '139/86.35000000000001' '103/67.95'\n",
            " '117/71.05' '142/96.3' '116/78.4' '129/82.85000000000001'\n",
            " '104/67.60000000000001' '135/90.75' '128/78.2' '107/73.55' '130/82.5'\n",
            " '141/92.65' '103/70.95' '102/61.3' '108/74.2' '114/70.10000000000001'\n",
            " '116/75.4' '142/94.3' '130/87.5' '143/90.95' '144/88.60000000000001'\n",
            " '139/91.35000000000001' '146/97.9' '127/87.55' '104/62.60000000000001'\n",
            " '140/87.0' '133/88.45' '139/88.35000000000001' '148/91.2'\n",
            " '144/97.60000000000001' '129/88.85000000000001' '106/69.9' '143/91.95'\n",
            " '135/88.75' '104/63.60000000000001' '98/60' '133/91.45'\n",
            " '144/90.60000000000001' '135/83.75' '110/71.5' '146/98.9' '108/67.2'\n",
            " '143/89.95' '115/76.75' '131/83.15' '138/90.7' '148/93.2' '111/69.15'\n",
            " '138/88.7' '102/68.3' '146/90.9' '97/60.050000000000004' '113/68.45'\n",
            " '144/94.60000000000001' '142/88.3' '132/81.8' '110/68.5' '147/99.55'\n",
            " '134/88.10000000000001' '139/87.35000000000001' '102/62.3' '145/90.25']\n",
            "Heart Rate → [ 56  67  60  97  71  76  80  65  89 106  72  62  78  73  63  66  57  99\n",
            "  82  69  81  93  61  92  53  77  70  84  79  68  91  64  83  87  75  95\n",
            "  94  85  74  86  88  49  58  96 100  46  90 104  59  55 101 103  54  45\n",
            " 109  52  43  98  50  47 102 107  51 108]\n",
            "Daily Steps → [ 9476 10661  5033 ...  6785  3751  4556]\n",
            "Sleep Disorder → ['None' 'Insomnia' 'Sleep Apnea' 'Restless Leg Syndrome' 'Narcolepsy']\n"
          ]
        }
      ]
    },
    {
      "cell_type": "code",
      "source": [
        "data_set.drop('Person ID', axis=1, inplace=True)\n"
      ],
      "metadata": {
        "id": "4K8UYMzSOrnO"
      },
      "execution_count": null,
      "outputs": []
    },
    {
      "cell_type": "code",
      "source": [
        "data_set['Gender'] = data_set['Gender'].map({'Male': 0, 'Female': 1})\n"
      ],
      "metadata": {
        "id": "EIxP12c9Oreq"
      },
      "execution_count": null,
      "outputs": []
    },
    {
      "cell_type": "code",
      "source": [
        "data_set = pd.get_dummies(data_set, columns=['Occupation'], drop_first=True)\n"
      ],
      "metadata": {
        "id": "ZfKKLn_yOrSr"
      },
      "execution_count": null,
      "outputs": []
    },
    {
      "cell_type": "code",
      "source": [
        "bmi_order = {'Underweight': 0, 'Normal': 1, 'Overweight': 2, 'Obese': 3}\n",
        "data_set['BMI Category'] = data_set['BMI Category'].map(bmi_order)\n"
      ],
      "metadata": {
        "id": "zfIawjnOOrGf"
      },
      "execution_count": null,
      "outputs": []
    },
    {
      "cell_type": "code",
      "source": [
        "data_set.drop('Blood Pressure', axis=1, inplace=True)"
      ],
      "metadata": {
        "id": "s77oCe_jOq7h"
      },
      "execution_count": null,
      "outputs": []
    },
    {
      "cell_type": "code",
      "source": [
        "from sklearn.preprocessing import StandardScaler\n",
        "\n",
        "scaler = StandardScaler()\n",
        "numerical_features = ['Age', 'Sleep Duration', 'Quality of Sleep',\n",
        "                      'Physical Activity Level', 'Stress Level']\n",
        "\n",
        "data_set[numerical_features] = scaler.fit_transform(data_set[numerical_features])\n"
      ],
      "metadata": {
        "id": "bEvP41AFOqwS"
      },
      "execution_count": null,
      "outputs": []
    },
    {
      "cell_type": "code",
      "source": [
        "from sklearn.preprocessing import LabelEncoder\n",
        "\n",
        "label_encoder = LabelEncoder()\n",
        "data_set['Sleep Disorder'] = label_encoder.fit_transform(data_set['Sleep Disorder'])\n"
      ],
      "metadata": {
        "id": "ZyiWvqrOOqkD"
      },
      "execution_count": null,
      "outputs": []
    },
    {
      "cell_type": "code",
      "source": [
        "X = data_set.drop('Sleep Disorder', axis=1)\n",
        "y = data_set['Sleep Disorder']\n"
      ],
      "metadata": {
        "id": "We8gAkGXOqWz"
      },
      "execution_count": null,
      "outputs": []
    },
    {
      "cell_type": "code",
      "source": [
        "from sklearn.model_selection import train_test_split\n",
        "\n",
        "X_train, X_test, y_train, y_test = train_test_split(X, y, test_size=0.2, random_state=42)\n"
      ],
      "metadata": {
        "id": "q7FvsfffQEbV"
      },
      "execution_count": null,
      "outputs": []
    },
    {
      "cell_type": "code",
      "source": [
        "from sklearn.ensemble import RandomForestClassifier\n",
        "from sklearn.metrics import accuracy_score, classification_report, confusion_matrix\n",
        "\n",
        "# Step 1: Create and train the Random Forest model\n",
        "rf_model = RandomForestClassifier(n_estimators=100, random_state=42)\n",
        "rf_model.fit(X_train, y_train)\n",
        "\n",
        "# Step 2: Make predictions on the test set\n",
        "y_pred_rf = rf_model.predict(X_test)\n",
        "\n",
        "# Step 3: Evaluate the model\n",
        "print(\"Random Forest Accuracy:\", accuracy_score(y_test, y_pred_rf))\n",
        "print(\"\\nClassification Report:\\n\", classification_report(y_test, y_pred_rf))\n",
        "print(\"\\nConfusion Matrix:\\n\", confusion_matrix(y_test,y_pred_rf))"
      ],
      "metadata": {
        "colab": {
          "base_uri": "https://localhost:8080/"
        },
        "id": "D_AEyBvNQEYP",
        "outputId": "60a5d45d-4129-4954-8964-43439480cdd3"
      },
      "execution_count": null,
      "outputs": [
        {
          "output_type": "stream",
          "name": "stdout",
          "text": [
            "Random Forest Accuracy: 0.6833333333333333\n",
            "\n",
            "Classification Report:\n",
            "               precision    recall  f1-score   support\n",
            "\n",
            "           0       0.00      0.00      0.00        32\n",
            "           1       0.00      0.00      0.00        20\n",
            "           2       0.69      1.00      0.82       202\n",
            "           3       0.00      0.00      0.00        14\n",
            "           4       0.44      0.12      0.20        32\n",
            "\n",
            "    accuracy                           0.68       300\n",
            "   macro avg       0.23      0.22      0.20       300\n",
            "weighted avg       0.51      0.68      0.57       300\n",
            "\n",
            "\n",
            "Confusion Matrix:\n",
            " [[  0   0  29   0   3]\n",
            " [  0   0  19   0   1]\n",
            " [  0   0 201   0   1]\n",
            " [  0   0  14   0   0]\n",
            " [  0   0  28   0   4]]\n"
          ]
        },
        {
          "output_type": "stream",
          "name": "stderr",
          "text": [
            "/usr/local/lib/python3.11/dist-packages/sklearn/metrics/_classification.py:1565: UndefinedMetricWarning: Precision is ill-defined and being set to 0.0 in labels with no predicted samples. Use `zero_division` parameter to control this behavior.\n",
            "  _warn_prf(average, modifier, f\"{metric.capitalize()} is\", len(result))\n",
            "/usr/local/lib/python3.11/dist-packages/sklearn/metrics/_classification.py:1565: UndefinedMetricWarning: Precision is ill-defined and being set to 0.0 in labels with no predicted samples. Use `zero_division` parameter to control this behavior.\n",
            "  _warn_prf(average, modifier, f\"{metric.capitalize()} is\", len(result))\n",
            "/usr/local/lib/python3.11/dist-packages/sklearn/metrics/_classification.py:1565: UndefinedMetricWarning: Precision is ill-defined and being set to 0.0 in labels with no predicted samples. Use `zero_division` parameter to control this behavior.\n",
            "  _warn_prf(average, modifier, f\"{metric.capitalize()} is\", len(result))\n"
          ]
        }
      ]
    },
    {
      "cell_type": "code",
      "source": [
        "feature_columns = X_train.columns.tolist()"
      ],
      "metadata": {
        "id": "Si2OeExEQEVL"
      },
      "execution_count": null,
      "outputs": []
    },
    {
      "cell_type": "code",
      "source": [
        "\n",
        "def get_user_input():\n",
        "    data = {\n",
        "        'Gender': int(input(\"Enter Gender (0=Male, 1=Female): \")),\n",
        "        'Age': float(input(\"Enter Age: \")),\n",
        "        'Sleep Duration': float(input(\"Enter Sleep Duration (in hours): \")),\n",
        "        'Quality of Sleep': float(input(\"Enter Quality of Sleep (1-10): \")),\n",
        "        'Physical Activity Level': float(input(\"Enter Physical Activity Level (1-100): \")),\n",
        "        'Stress Level': float(input(\"Enter Stress Level (1-10): \")),\n",
        "        'BMI Category': int(input(\"Enter BMI Category (0=Underweight, 1=Normal, 2=Overweight, 3=Obese): \")),\n",
        "        'Daily Steps': int(input(\"Enter Daily Steps: \")),\n",
        "        # Adding missing feature and initializing it to 0\n",
        "        'Heart Rate': 0  # Assuming resting heart rate or asking for it as input\n",
        "    }\n",
        "\n",
        "    # One-hot encoding for occupation\n",
        "    occupation_list = ['Artist', 'Chef', 'Doctor', 'Engineer', 'Lawyer', 'Manager', 'Nurse',\n",
        "                       'Sales Representative', 'Salesperson', 'Scientist',\n",
        "                       'Software Engineer', 'Student', 'Teacher', 'Writer']\n",
        "\n",
        "    occupation = input(f\"Enter Occupation (choose from: {occupation_list}): \")\n",
        "\n",
        "    # Initialize one-hot encoding for occupation\n",
        "    for occ in occupation_list:\n",
        "        data[f'Occupation_{occ}'] = 1 if occupation == occ else 0\n",
        "\n",
        "    # Create DataFrame\n",
        "    df_input = pd.DataFrame([data])\n",
        "\n",
        "    # Ensure all columns from the trained model exist in input DataFrame\n",
        "    for col in X_train.columns:  # Using X_train.columns for correct features\n",
        "        if col not in df_input.columns:\n",
        "            df_input[col] = 0  # Fill missing columns with 0\n",
        "\n",
        "    # Scale numerical features\n",
        "    numerical_features = ['Age', 'Sleep Duration', 'Quality of Sleep',\n",
        "                          'Physical Activity Level', 'Stress Level']\n",
        "\n",
        "    #Scaling the numerical features\n",
        "    df_input[numerical_features] = scaler.transform(df_input[numerical_features])\n",
        "\n",
        "    # Reorder to match the original feature order\n",
        "    df_input = df_input[X_train.columns]  # Ensures correct order\n",
        "\n",
        "    return df_input\n",
        "\n",
        "# Get user input\n",
        "user_input = get_user_input()\n",
        "\n",
        "# Predict\n",
        "prediction = rf_model.predict(user_input)\n",
        "\n",
        "# Output result\n",
        "classes = {0: 'Insomania', 1: 'Narcolepsy', 2: 'None', 3: 'Restless Leg Syndrome' , 4:'Sleep Apnea'}\n",
        "print(f\"\\n🧾 Predicted Sleep Disorder Class: {classes[prediction[0]]}\")"
      ],
      "metadata": {
        "id": "A5V0lTirQESd",
        "colab": {
          "base_uri": "https://localhost:8080/"
        },
        "outputId": "b2ba8456-82d0-464b-cae6-047594094d4a"
      },
      "execution_count": null,
      "outputs": [
        {
          "output_type": "stream",
          "name": "stdout",
          "text": [
            "Enter Gender (0=Male, 1=Female): 1\n",
            "Enter Age: 19\n",
            "Enter Sleep Duration (in hours): 6\n",
            "Enter Quality of Sleep (1-10): 5\n",
            "Enter Physical Activity Level (1-100): 70\n",
            "Enter Stress Level (1-10): 5\n",
            "Enter BMI Category (0=Underweight, 1=Normal, 2=Overweight, 3=Obese): 1\n",
            "Enter Daily Steps: 500\n",
            "Enter Occupation (choose from: ['Artist', 'Chef', 'Doctor', 'Engineer', 'Lawyer', 'Manager', 'Nurse', 'Sales Representative', 'Salesperson', 'Scientist', 'Software Engineer', 'Student', 'Teacher', 'Writer']): Nurse\n",
            "\n",
            "🧾 Predicted Sleep Disorder Class: None\n"
          ]
        }
      ]
    },
    {
      "cell_type": "code",
      "source": [],
      "metadata": {
        "id": "kYp43sukQEPc"
      },
      "execution_count": null,
      "outputs": []
    },
    {
      "cell_type": "code",
      "source": [],
      "metadata": {
        "id": "ocinmYV7QEMa"
      },
      "execution_count": null,
      "outputs": []
    },
    {
      "cell_type": "code",
      "source": [],
      "metadata": {
        "id": "DYNLbIKuQEJ3"
      },
      "execution_count": null,
      "outputs": []
    },
    {
      "cell_type": "code",
      "source": [],
      "metadata": {
        "id": "DP_zvlwlQEGQ"
      },
      "execution_count": null,
      "outputs": []
    },
    {
      "cell_type": "code",
      "source": [],
      "metadata": {
        "id": "Lkk7ZiKwQEDs"
      },
      "execution_count": null,
      "outputs": []
    },
    {
      "cell_type": "code",
      "source": [],
      "metadata": {
        "id": "Pg6z0ppkQEBC"
      },
      "execution_count": null,
      "outputs": []
    },
    {
      "cell_type": "code",
      "source": [],
      "metadata": {
        "id": "GTV2j_9qQD-B"
      },
      "execution_count": null,
      "outputs": []
    },
    {
      "cell_type": "code",
      "source": [],
      "metadata": {
        "id": "u9SLfw6wQD7V"
      },
      "execution_count": null,
      "outputs": []
    },
    {
      "cell_type": "code",
      "source": [],
      "metadata": {
        "id": "rt9Oh7u0QD36"
      },
      "execution_count": null,
      "outputs": []
    },
    {
      "cell_type": "code",
      "source": [],
      "metadata": {
        "id": "B_GTMStDQD1P"
      },
      "execution_count": null,
      "outputs": []
    },
    {
      "cell_type": "code",
      "source": [],
      "metadata": {
        "id": "ifs1oNANQDyO"
      },
      "execution_count": null,
      "outputs": []
    },
    {
      "cell_type": "code",
      "source": [],
      "metadata": {
        "id": "jHuuDy5qQDvH"
      },
      "execution_count": null,
      "outputs": []
    },
    {
      "cell_type": "code",
      "source": [],
      "metadata": {
        "id": "2yST-NhrQDsg"
      },
      "execution_count": null,
      "outputs": []
    },
    {
      "cell_type": "code",
      "source": [],
      "metadata": {
        "id": "FxEKukNvQDpb"
      },
      "execution_count": null,
      "outputs": []
    },
    {
      "cell_type": "code",
      "source": [],
      "metadata": {
        "id": "oG-m4e9DQDl_"
      },
      "execution_count": null,
      "outputs": []
    },
    {
      "cell_type": "code",
      "source": [],
      "metadata": {
        "id": "pCIynSqQQDjx"
      },
      "execution_count": null,
      "outputs": []
    },
    {
      "cell_type": "code",
      "source": [],
      "metadata": {
        "id": "hnYcDvJ-QDdO"
      },
      "execution_count": null,
      "outputs": []
    },
    {
      "cell_type": "code",
      "source": [],
      "metadata": {
        "id": "jR1qSqzEQDQC"
      },
      "execution_count": null,
      "outputs": []
    }
  ]
}